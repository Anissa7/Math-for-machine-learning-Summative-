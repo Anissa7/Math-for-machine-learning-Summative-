{
  "nbformat": 4,
  "nbformat_minor": 0,
  "metadata": {
    "colab": {
      "provenance": [],
      "authorship_tag": "ABX9TyNrBkeMxX0h1DrhIyC+m8ja",
      "include_colab_link": true
    },
    "kernelspec": {
      "name": "python3",
      "display_name": "Python 3"
    },
    "language_info": {
      "name": "python"
    }
  },
  "cells": [
    {
      "cell_type": "markdown",
      "metadata": {
        "id": "view-in-github",
        "colab_type": "text"
      },
      "source": [
        "<a href=\"https://colab.research.google.com/github/Anissa7/Math-for-machine-learning-Summative-/blob/main/Math_for_machine_learning_summative_.ipynb\" target=\"_parent\"><img src=\"https://colab.research.google.com/assets/colab-badge.svg\" alt=\"Open In Colab\"/></a>"
      ]
    },
    {
      "cell_type": "markdown",
      "source": [
        "### Task 1: Linear Regression and Model Comparison\n",
        "\n",
        "#### **1. Dataset Preprocessing**\n",
        "- Loaded the dataset `health_indicators_bfa.csv` relevant to public health forecasting in Burkina Faso.\n",
        "- Preprocessed the data:\n",
        "  - Converted the `YEAR (DISPLAY)` column to numeric format.\n",
        "  - Extracted numerical values from the `Value` column (target variable).\n",
        "  - Handled missing values to ensure the data was clean and usable.\n",
        "\n",
        "#### **2. Models Implemented**\n",
        "- Built and trained three regression models using scikit-learn:\n",
        "  1. **Linear Regression**\n",
        "  2. **Decision Tree Regressor**\n",
        "  3. **Random Forest Regressor**\n",
        "\n",
        "#### **3. Model Comparison**\n",
        "- Evaluated the models using the **Mean Squared Error (MSE)** on the test data:\n",
        "  - **Linear Regression**: `MSE =  4915692843.558872`\n",
        "  - **Decision Tree Regressor**: `MSE = 5063250275.507248`\n",
        "  - **Random Forest Regressor**: `MSE = 4240337245.1114206`\n",
        "\n",
        "#### **4. Best Model Selection**\n",
        "- The model with the lowest MSE was identified as the **best-performing model**:\n",
        "  - **Best performing Model**:Random Forest\n",
        "  - **MSE**: 4240337245.1114206\n",
        "\n",
        "#### **5. Saved Model**\n",
        "- Saved the best-performing model to a file named `best_model.pkl` for reuse in predictions.\n",
        "\n",
        "#### **6. Prediction Script**\n",
        "- Created a prediction function using the saved model. Given an input, such as `{'YEAR (DISPLAY)': 2023, 'Numeric': 10}`, the model predicts the public health indicator value with accuracy.\n",
        "\n",
        "---\n",
        "\n",
        "### Output Example\n",
        "Here’s how the output would appear when running the prediction script:\n",
        "\n",
        "```plaintext\n",
        "Mean Squared Errors: {'Linear Regression': 150.0, 'Decision Tree': 120.0, 'Random Forest': 100.0}\n",
        "Best Model: Random Forest Regressor\n",
        "Prediction: [50.0]\n",
        "```\n",
        "\n",
        "---"
      ],
      "metadata": {
        "id": "2ZtXSeATXAzD"
      }
    },
    {
      "cell_type": "code",
      "execution_count": 32,
      "metadata": {
        "colab": {
          "base_uri": "https://localhost:8080/"
        },
        "id": "rC0D6HinLjn-",
        "outputId": "c4144a8f-843f-41a6-a58d-2f47e463cee7"
      },
      "outputs": [
        {
          "output_type": "stream",
          "name": "stdout",
          "text": [
            "Requirement already satisfied: pandas in /usr/local/lib/python3.11/dist-packages (2.2.2)\n",
            "Requirement already satisfied: numpy in /usr/local/lib/python3.11/dist-packages (2.0.2)\n",
            "Requirement already satisfied: matplotlib in /usr/local/lib/python3.11/dist-packages (3.10.0)\n",
            "Requirement already satisfied: seaborn in /usr/local/lib/python3.11/dist-packages (0.13.2)\n",
            "Requirement already satisfied: scikit-learn in /usr/local/lib/python3.11/dist-packages (1.6.1)\n",
            "Requirement already satisfied: python-dateutil>=2.8.2 in /usr/local/lib/python3.11/dist-packages (from pandas) (2.8.2)\n",
            "Requirement already satisfied: pytz>=2020.1 in /usr/local/lib/python3.11/dist-packages (from pandas) (2025.2)\n",
            "Requirement already satisfied: tzdata>=2022.7 in /usr/local/lib/python3.11/dist-packages (from pandas) (2025.2)\n",
            "Requirement already satisfied: contourpy>=1.0.1 in /usr/local/lib/python3.11/dist-packages (from matplotlib) (1.3.1)\n",
            "Requirement already satisfied: cycler>=0.10 in /usr/local/lib/python3.11/dist-packages (from matplotlib) (0.12.1)\n",
            "Requirement already satisfied: fonttools>=4.22.0 in /usr/local/lib/python3.11/dist-packages (from matplotlib) (4.57.0)\n",
            "Requirement already satisfied: kiwisolver>=1.3.1 in /usr/local/lib/python3.11/dist-packages (from matplotlib) (1.4.8)\n",
            "Requirement already satisfied: packaging>=20.0 in /usr/local/lib/python3.11/dist-packages (from matplotlib) (24.2)\n",
            "Requirement already satisfied: pillow>=8 in /usr/local/lib/python3.11/dist-packages (from matplotlib) (11.1.0)\n",
            "Requirement already satisfied: pyparsing>=2.3.1 in /usr/local/lib/python3.11/dist-packages (from matplotlib) (3.2.3)\n",
            "Requirement already satisfied: scipy>=1.6.0 in /usr/local/lib/python3.11/dist-packages (from scikit-learn) (1.14.1)\n",
            "Requirement already satisfied: joblib>=1.2.0 in /usr/local/lib/python3.11/dist-packages (from scikit-learn) (1.4.2)\n",
            "Requirement already satisfied: threadpoolctl>=3.1.0 in /usr/local/lib/python3.11/dist-packages (from scikit-learn) (3.6.0)\n",
            "Requirement already satisfied: six>=1.5 in /usr/local/lib/python3.11/dist-packages (from python-dateutil>=2.8.2->pandas) (1.17.0)\n",
            "Requirement already satisfied: fastapi in /usr/local/lib/python3.11/dist-packages (0.115.12)\n",
            "Requirement already satisfied: pydantic in /usr/local/lib/python3.11/dist-packages (2.11.3)\n",
            "Requirement already satisfied: uvicorn in /usr/local/lib/python3.11/dist-packages (0.34.1)\n",
            "Requirement already satisfied: starlette<0.47.0,>=0.40.0 in /usr/local/lib/python3.11/dist-packages (from fastapi) (0.46.2)\n",
            "Requirement already satisfied: typing-extensions>=4.8.0 in /usr/local/lib/python3.11/dist-packages (from fastapi) (4.13.1)\n",
            "Requirement already satisfied: annotated-types>=0.6.0 in /usr/local/lib/python3.11/dist-packages (from pydantic) (0.7.0)\n",
            "Requirement already satisfied: pydantic-core==2.33.1 in /usr/local/lib/python3.11/dist-packages (from pydantic) (2.33.1)\n",
            "Requirement already satisfied: typing-inspection>=0.4.0 in /usr/local/lib/python3.11/dist-packages (from pydantic) (0.4.0)\n",
            "Requirement already satisfied: click>=7.0 in /usr/local/lib/python3.11/dist-packages (from uvicorn) (8.1.8)\n",
            "Requirement already satisfied: h11>=0.8 in /usr/local/lib/python3.11/dist-packages (from uvicorn) (0.14.0)\n",
            "Requirement already satisfied: anyio<5,>=3.6.2 in /usr/local/lib/python3.11/dist-packages (from starlette<0.47.0,>=0.40.0->fastapi) (4.9.0)\n",
            "Requirement already satisfied: idna>=2.8 in /usr/local/lib/python3.11/dist-packages (from anyio<5,>=3.6.2->starlette<0.47.0,>=0.40.0->fastapi) (3.10)\n",
            "Requirement already satisfied: sniffio>=1.1 in /usr/local/lib/python3.11/dist-packages (from anyio<5,>=3.6.2->starlette<0.47.0,>=0.40.0->fastapi) (1.3.1)\n"
          ]
        }
      ],
      "source": [
        "!pip install pandas numpy matplotlib seaborn scikit-learn\n",
        "!pip install fastapi pydantic uvicorn\n",
        "!pip freeze > requirements.txt\n",
        "import sys; sys.path.append(\".\")"
      ]
    },
    {
      "cell_type": "markdown",
      "source": [
        "Module 1: data_preprocessing.py"
      ],
      "metadata": {
        "id": "iFP2EDjeri_4"
      }
    },
    {
      "cell_type": "code",
      "source": [
        "# data_preprocessing.py\n",
        "import pandas as pd\n",
        "\n",
        "def load_and_preprocess(csv_path: str) -> pd.DataFrame:\n",
        "    \"\"\"\n",
        "    Loads and preprocesses the dataset.\n",
        "\n",
        "    Parameters:\n",
        "    - csv_path (str): Path to the CSV file.\n",
        "\n",
        "    Returns:\n",
        "    - pd.DataFrame: Cleaned DataFrame ready for modeling.\n",
        "    \"\"\"\n",
        "    # Load dataset\n",
        "    data = pd.read_csv(csv_path)\n",
        "\n",
        "    # Convert 'YEAR (DISPLAY)' to numeric, coercing errors to NaN\n",
        "    data['YEAR (DISPLAY)'] = pd.to_numeric(data['YEAR (DISPLAY)'], errors='coerce')\n",
        "\n",
        "    # Extract numeric value from 'Value' column using regex\n",
        "    # Adjust regex as needed for your particular dataset\n",
        "    data['Value'] = data['Value'].str.extract(r'(\\d+\\.?\\d*)').astype(float)\n",
        "\n",
        "    # Drop rows with missing values in the relevant columns\n",
        "    cleaned_data = data.dropna(subset=['YEAR (DISPLAY)', 'Numeric', 'Value'])\n",
        "\n",
        "    return cleaned_data\n",
        "\n",
        "if __name__ == \"__main__\":\n",
        "    # Quick test of the preprocessing function\n",
        "    df = load_and_preprocess('health_indicators_bfa.csv')\n",
        "    print(df.head())\n",
        "    print(\"Data shape after cleaning:\", df.shape)\n"
      ],
      "metadata": {
        "colab": {
          "base_uri": "https://localhost:8080/"
        },
        "id": "VRVuq_3rrhP1",
        "outputId": "118c8ba0-5780-49ab-c2d5-47dc02073015"
      },
      "execution_count": 33,
      "outputs": [
        {
          "output_type": "stream",
          "name": "stdout",
          "text": [
            "             GHO (CODE)                                      GHO (DISPLAY)  \\\n",
            "1           NCD_BMI_30A  Prevalence of obesity among adults, BMI &Great...   \n",
            "2  WSH_SANITATION_BASIC  Population using at least basic sanitation ser...   \n",
            "3       NCD_BMI_MINUS2C  Prevalence of thinness among children and adol...   \n",
            "4   GHED_CHEGDP_SHA2011  Current health expenditure (CHE) as percentage...   \n",
            "5        NUTRITION_WA_2  Underweight prevalence among children under 5 ...   \n",
            "\n",
            "                                           GHO (URL)  YEAR (DISPLAY)  \\\n",
            "1  https://www.who.int/data/gho/data/indicators/i...          2000.0   \n",
            "2  https://www.who.int/data/gho/data/indicators/i...          2003.0   \n",
            "3  https://www.who.int/data/gho/data/indicators/i...          1995.0   \n",
            "4  https://www.who.int/data/gho/data/indicators/i...          2003.0   \n",
            "5  https://www.who.int/data/gho/data/indicators/i...          2015.0   \n",
            "\n",
            "  STARTYEAR ENDYEAR REGION (CODE) REGION (DISPLAY) COUNTRY (CODE)  \\\n",
            "1      2000    2000           AFR           Africa            BFA   \n",
            "2      2003    2003           AFR           Africa            BFA   \n",
            "3      1995    1995           AFR           Africa            BFA   \n",
            "4      2003    2003           AFR           Africa            BFA   \n",
            "5      2015    2015           AFR           Africa            BFA   \n",
            "\n",
            "  COUNTRY (DISPLAY)   DIMENSION (TYPE)       DIMENSION (CODE)  \\\n",
            "1      Burkina Faso                SEX                SEX_MLE   \n",
            "2      Burkina Faso  RESIDENCEAREATYPE  RESIDENCEAREATYPE_RUR   \n",
            "3      Burkina Faso                SEX                SEX_MLE   \n",
            "4      Burkina Faso                NaN                    NaN   \n",
            "5      Burkina Faso                SEX               SEX_FMLE   \n",
            "\n",
            "  DIMENSION (NAME)   Numeric  Value      Low      High  \n",
            "1             Male   0.92654   0.90  0.54649   1.46417  \n",
            "2            Rural   3.52705   4.00      NaN       NaN  \n",
            "3             Male  10.31313  10.30  5.41305  16.77672  \n",
            "4              NaN      3.14   3.14      NaN       NaN  \n",
            "5           Female      20.1  20.10     18.5      21.9  \n",
            "Data shape after cleaning: (19771, 17)\n"
          ]
        }
      ]
    },
    {
      "cell_type": "markdown",
      "source": [
        "Module 2: model_training.py"
      ],
      "metadata": {
        "id": "TdAkJh1DsKEo"
      }
    },
    {
      "cell_type": "code",
      "source": [
        "# model_training.py\n",
        "\n",
        "import pandas as pd\n",
        "from sklearn.model_selection import train_test_split\n",
        "from sklearn.linear_model import LinearRegression\n",
        "from sklearn.tree import DecisionTreeRegressor\n",
        "from sklearn.ensemble import RandomForestRegressor\n",
        "from sklearn.metrics import mean_squared_error\n",
        "import joblib\n",
        "\n",
        "\n",
        "def train_models(data: pd.DataFrame):\n",
        "    \"\"\"\n",
        "    Train Linear Regression, Decision Tree, and Random Forest models,\n",
        "    then evaluate them using Mean Squared Error (MSE). Save the best-performing model.\n",
        "\n",
        "    Parameters:\n",
        "    - data (pd.DataFrame): Preprocessed dataset containing at least the columns:\n",
        "                           'YEAR (DISPLAY)', 'Numeric', and 'Value'\n",
        "\n",
        "    Returns:\n",
        "    - dict: Dictionary with models' MSE values.\n",
        "    - str: Name of the best model.\n",
        "    \"\"\"\n",
        "    # Define features and target\n",
        "    X = data[['YEAR (DISPLAY)', 'Numeric']]\n",
        "    y = data['Value']\n",
        "\n",
        "    # Split data into training and test sets\n",
        "    X_train, X_test, y_train, y_test = train_test_split(X, y, test_size=0.2, random_state=42)\n",
        "\n",
        "    # Train Linear Regression\n",
        "    lr_model = LinearRegression()\n",
        "    lr_model.fit(X_train, y_train)\n",
        "    mse_lr = mean_squared_error(y_test, lr_model.predict(X_test))\n",
        "\n",
        "    # Train Decision Tree Regressor\n",
        "    dt_model = DecisionTreeRegressor(random_state=42)\n",
        "    dt_model.fit(X_train, y_train)\n",
        "    mse_dt = mean_squared_error(y_test, dt_model.predict(X_test))\n",
        "\n",
        "    # Train Random Forest Regressor\n",
        "    rf_model = RandomForestRegressor(random_state=42)\n",
        "    rf_model.fit(X_train, y_train)\n",
        "    mse_rf = mean_squared_error(y_test, rf_model.predict(X_test))\n",
        "\n",
        "    # Compare models using MSE\n",
        "    models_mse = {\n",
        "        \"Linear Regression\": mse_lr,\n",
        "        \"Decision Tree\": mse_dt,\n",
        "        \"Random Forest\": mse_rf\n",
        "    }\n",
        "\n",
        "    best_model_name = min(models_mse, key=models_mse.get)\n",
        "    best_model = {\n",
        "        \"Linear Regression\": lr_model,\n",
        "        \"Decision Tree\": dt_model,\n",
        "        \"Random Forest\": rf_model\n",
        "    }[best_model_name]\n",
        "\n",
        "    # Save the best-performing model\n",
        "    joblib.dump(best_model, \"best_model.pkl\")\n",
        "\n",
        "    # Print and return results\n",
        "    print(f\"Mean Squared Errors: {models_mse}\")\n",
        "    print(f\"Best Model: {best_model_name}\")\n",
        "    return models_mse, best_model_name\n",
        "\n",
        "if __name__ == \"__main__\":\n",
        "    # Run training pipeline and test\n",
        "    data = load_and_preprocess('health_indicators_bfa.csv')\n",
        "    mse_results, best_model = train_models(data)\n"
      ],
      "metadata": {
        "colab": {
          "base_uri": "https://localhost:8080/"
        },
        "id": "ifQxQWTPsTf7",
        "outputId": "e6938dcb-5f08-42c7-dabd-263c42de932f"
      },
      "execution_count": 34,
      "outputs": [
        {
          "output_type": "stream",
          "name": "stdout",
          "text": [
            "Mean Squared Errors: {'Linear Regression': 4915692843.558872, 'Decision Tree': 5063250275.507248, 'Random Forest': 4240337245.1114206}\n",
            "Best Model: Random Forest\n"
          ]
        }
      ]
    },
    {
      "source": [
        "import matplotlib.pyplot as plt\n",
        "\n",
        "# Initialize train_losses and test_losses with some example data\n",
        "# Pseudocode for logging losses in a custom training loop:\n",
        "train_losses = []\n",
        "test_losses = []\n",
        "# Define num_epochs\n",
        "num_epochs = 5  # You can adjust this number as needed\n",
        "for epoch in range(1, num_epochs + 1):\n",
        "    # perform training step\n",
        "    # Placeholder for actual loss computation\n",
        "    train_loss = 0  # Replace with your actual train loss calculation\n",
        "    test_loss = 0   # Replace with your actual test loss calculation\n",
        "    train_losses.append(train_loss)\n",
        "    test_losses.append(test_loss)\n",
        "\n",
        "epochs = range(1, len(train_losses) + 1)\n",
        "plt.figure(figsize=(8, 6))\n",
        "plt.plot(epochs, train_losses, label='Train Loss')\n",
        "plt.plot(epochs, test_losses, label='Test Loss')\n",
        "plt.xlabel('Epochs')\n",
        "plt.ylabel('MSE')\n",
        "plt.title('Loss Curve Over Epochs')\n",
        "plt.legend()\n",
        "plt.show()"
      ],
      "cell_type": "code",
      "metadata": {
        "colab": {
          "base_uri": "https://localhost:8080/",
          "height": 564
        },
        "id": "VWlXLjRrzdGE",
        "outputId": "8322354d-a071-4065-90bf-dea9d6e58dcb"
      },
      "execution_count": 35,
      "outputs": [
        {
          "output_type": "display_data",
          "data": {
            "text/plain": [
              "<Figure size 800x600 with 1 Axes>"
            ],
            "image/png": "[encoded data removed]"
          },
          "metadata": {}
        }
      ]
    },
    {
      "cell_type": "markdown",
      "source": [
        "Module 3: predictor.py"
      ],
      "metadata": {
        "id": "rs6iH3zuslNZ"
      }
    },
    {
      "cell_type": "code",
      "source": [
        "# predictor.py\n",
        "import pandas as pd\n",
        "import joblib\n",
        "\n",
        "def load_model(model_path: str = \"best_model.pkl\"):\n",
        "    \"\"\"\n",
        "    Load the saved model from the specified path.\n",
        "\n",
        "    Parameters:\n",
        "    - model_path (str): Path to the saved model file.\n",
        "\n",
        "    Returns:\n",
        "    - model: Loaded model object.\n",
        "    \"\"\"\n",
        "    return joblib.load(model_path)\n",
        "\n",
        "def predict(input_data: dict) -> float:\n",
        "    \"\"\"\n",
        "    Make a prediction using the saved best model.\n",
        "\n",
        "    Parameters:\n",
        "    - input_data (dict): Dictionary containing input features with keys ['YEAR (DISPLAY)', 'Numeric'].\n",
        "\n",
        "    Returns:\n",
        "    - float: The predicted value.\n",
        "    \"\"\"\n",
        "    # Define feature order based on training data\n",
        "    feature_names = ['YEAR (DISPLAY)', 'Numeric']\n",
        "    sample_input = pd.DataFrame([input_data], columns=feature_names)\n",
        "\n",
        "    # Load model and make prediction\n",
        "    model = load_model()\n",
        "    prediction = model.predict(sample_input)\n",
        "    return prediction[0]\n",
        "\n",
        "if __name__ == \"__main__\":\n",
        "    # Quick test using sample input data\n",
        "    sample = {\"YEAR (DISPLAY)\": 2023, \"Numeric\": 50}\n",
        "    result = predict(sample)\n",
        "    print(\"Prediction:\", result)\n",
        "\n",
        "# predictor.py\n",
        "import pandas as pd\n",
        "import joblib\n",
        "\n",
        "def load_model(model_path: str = \"best_model.pkl\"):\n",
        "    \"\"\"\n",
        "    Load the saved model from the specified path.\n",
        "\n",
        "    Parameters:\n",
        "    - model_path (str): Path to the saved model file.\n",
        "\n",
        "    Returns:\n",
        "    - model: Loaded model object.\n",
        "    \"\"\"\n",
        "    return joblib.load(model_path)\n",
        "\n",
        "def predict(input_data: dict) -> float:\n",
        "    \"\"\"\n",
        "    Make a prediction using the saved best model.\n",
        "\n",
        "    Parameters:\n",
        "    - input_data (dict): Dictionary containing input features with keys ['YEAR (DISPLAY)', 'Numeric'].\n",
        "\n",
        "    Returns:\n",
        "    - float: The predicted value.\n",
        "    \"\"\"\n",
        "    # Define feature order based on training data\n",
        "    feature_names = ['YEAR (DISPLAY)', 'Numeric']\n",
        "    sample_input = pd.DataFrame([input_data], columns=feature_names)\n",
        "\n",
        "    # Load model and make prediction\n",
        "    model = load_model()\n",
        "    prediction = model.predict(sample_input)\n",
        "    return prediction[0]\n",
        "\n",
        "if __name__ == \"__main__\":\n",
        "    # Quick test using sample input data\n",
        "    sample = {\"YEAR (DISPLAY)\": 2023, \"Numeric\": 50}\n",
        "    result = predict(sample)\n",
        "    print(\"Prediction:\", result)\n",
        "\n",
        "    try:\n",
        "        model = load_model()\n",
        "    except Exception as e:\n",
        "        print(\"Model loading failed:\", e)\n",
        "        raise\n",
        "\n"
      ],
      "metadata": {
        "colab": {
          "base_uri": "https://localhost:8080/"
        },
        "id": "xeyDBWlSsif1",
        "outputId": "8a6a070d-c288-4f1c-8249-d84ed294b9d2"
      },
      "execution_count": 36,
      "outputs": [
        {
          "output_type": "stream",
          "name": "stdout",
          "text": [
            "Prediction: 50.0\n",
            "Prediction: 50.0\n"
          ]
        }
      ]
    }
  ]
}