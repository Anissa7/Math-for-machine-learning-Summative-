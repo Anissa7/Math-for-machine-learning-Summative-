{
  "nbformat": 4,
  "nbformat_minor": 0,
  "metadata": {
    "colab": {
      "provenance": [],
      "authorship_tag": "ABX9TyN3fAMR8aiCwsjCrgKqEQQA",
      "include_colab_link": true
    },
    "kernelspec": {
      "name": "python3",
      "display_name": "Python 3"
    },
    "language_info": {
      "name": "python"
    }
  },
  "cells": [
    {
      "cell_type": "markdown",
      "metadata": {
        "id": "view-in-github",
        "colab_type": "text"
      },
      "source": [
        "<a href=\"https://colab.research.google.com/github/Anissa7/Math-for-machine-learning-Summative-/blob/main/Math_for_machine_learning_summative_.ipynb\" target=\"_parent\"><img src=\"https://colab.research.google.com/assets/colab-badge.svg\" alt=\"Open In Colab\"/></a>"
      ]
    },
    {
      "cell_type": "markdown",
      "source": [
        "Great! Let's refine your explanation and output for **Task 1** to align perfectly with the assignment and make it clear for submission. Here's how we can summarize the steps and insights gained:\n",
        "\n",
        "---\n",
        "\n",
        "### Task 1: Linear Regression and Model Comparison\n",
        "\n",
        "#### **1. Dataset Preprocessing**\n",
        "- Loaded the dataset `health_indicators_bfa.csv` relevant to public health forecasting in Burkina Faso.\n",
        "- Preprocessed the data:\n",
        "  - Converted the `YEAR (DISPLAY)` column to numeric format.\n",
        "  - Extracted numerical values from the `Value` column (target variable).\n",
        "  - Handled missing values to ensure the data was clean and usable.\n",
        "\n",
        "#### **2. Models Implemented**\n",
        "- Built and trained three regression models using scikit-learn:\n",
        "  1. **Linear Regression**\n",
        "  2. **Decision Tree Regressor**\n",
        "  3. **Random Forest Regressor**\n",
        "\n",
        "#### **3. Model Comparison**\n",
        "- Evaluated the models using the **Mean Squared Error (MSE)** on the test data:\n",
        "  - **Linear Regression**: `MSE = [insert value here]`\n",
        "  - **Decision Tree Regressor**: `MSE = [insert value here]`\n",
        "  - **Random Forest Regressor**: `MSE = [insert value here]`\n",
        "\n",
        "#### **4. Best Model Selection**\n",
        "- The model with the lowest MSE was identified as the **best-performing model**:\n",
        "  - **Best Model**: [e.g., Random Forest Regressor]\n",
        "  - **MSE**: [insert value here]\n",
        "\n",
        "#### **5. Saved Model**\n",
        "- Saved the best-performing model to a file named `best_model.pkl` for reuse in predictions.\n",
        "\n",
        "#### **6. Prediction Script**\n",
        "- Created a prediction function using the saved model. Given an input, such as `{'YEAR (DISPLAY)': 2023, 'Numeric': 10}`, the model predicts the public health indicator value with accuracy.\n",
        "\n",
        "---\n",
        "\n",
        "### Output Example\n",
        "Here’s how the output would appear when running the prediction script:\n",
        "\n",
        "```plaintext\n",
        "Mean Squared Errors: {'Linear Regression': 150.0, 'Decision Tree': 120.0, 'Random Forest': 100.0}\n",
        "Best Model: Random Forest Regressor\n",
        "Prediction: [50.0]\n",
        "```\n",
        "\n",
        "---"
      ],
      "metadata": {
        "id": "2ZtXSeATXAzD"
      }
    },
    {
      "cell_type": "code",
      "execution_count": 1,
      "metadata": {
        "colab": {
          "base_uri": "https://localhost:8080/"
        },
        "id": "rC0D6HinLjn-",
        "outputId": "20406ac3-2df4-44a8-cb0c-005a9393e944"
      },
      "outputs": [
        {
          "output_type": "stream",
          "name": "stdout",
          "text": [
            "Requirement already satisfied: pandas in /usr/local/lib/python3.10/dist-packages (2.2.2)\n",
            "Requirement already satisfied: numpy in /usr/local/lib/python3.10/dist-packages (1.26.4)\n",
            "Requirement already satisfied: matplotlib in /usr/local/lib/python3.10/dist-packages (3.8.0)\n",
            "Requirement already satisfied: seaborn in /usr/local/lib/python3.10/dist-packages (0.13.2)\n",
            "Requirement already satisfied: scikit-learn in /usr/local/lib/python3.10/dist-packages (1.5.2)\n",
            "Requirement already satisfied: python-dateutil>=2.8.2 in /usr/local/lib/python3.10/dist-packages (from pandas) (2.8.2)\n",
            "Requirement already satisfied: pytz>=2020.1 in /usr/local/lib/python3.10/dist-packages (from pandas) (2024.2)\n",
            "Requirement already satisfied: tzdata>=2022.7 in /usr/local/lib/python3.10/dist-packages (from pandas) (2024.2)\n",
            "Requirement already satisfied: contourpy>=1.0.1 in /usr/local/lib/python3.10/dist-packages (from matplotlib) (1.3.1)\n",
            "Requirement already satisfied: cycler>=0.10 in /usr/local/lib/python3.10/dist-packages (from matplotlib) (0.12.1)\n",
            "Requirement already satisfied: fonttools>=4.22.0 in /usr/local/lib/python3.10/dist-packages (from matplotlib) (4.55.0)\n",
            "Requirement already satisfied: kiwisolver>=1.0.1 in /usr/local/lib/python3.10/dist-packages (from matplotlib) (1.4.7)\n",
            "Requirement already satisfied: packaging>=20.0 in /usr/local/lib/python3.10/dist-packages (from matplotlib) (24.2)\n",
            "Requirement already satisfied: pillow>=6.2.0 in /usr/local/lib/python3.10/dist-packages (from matplotlib) (11.0.0)\n",
            "Requirement already satisfied: pyparsing>=2.3.1 in /usr/local/lib/python3.10/dist-packages (from matplotlib) (3.2.0)\n",
            "Requirement already satisfied: scipy>=1.6.0 in /usr/local/lib/python3.10/dist-packages (from scikit-learn) (1.13.1)\n",
            "Requirement already satisfied: joblib>=1.2.0 in /usr/local/lib/python3.10/dist-packages (from scikit-learn) (1.4.2)\n",
            "Requirement already satisfied: threadpoolctl>=3.1.0 in /usr/local/lib/python3.10/dist-packages (from scikit-learn) (3.5.0)\n",
            "Requirement already satisfied: six>=1.5 in /usr/local/lib/python3.10/dist-packages (from python-dateutil>=2.8.2->pandas) (1.16.0)\n"
          ]
        }
      ],
      "source": [
        "pip install pandas numpy matplotlib seaborn scikit-learn\n"
      ]
    },
    {
      "cell_type": "code",
      "source": [
        "import pandas as pd\n",
        "from sklearn.model_selection import train_test_split\n",
        "from sklearn.linear_model import LinearRegression\n",
        "from sklearn.tree import DecisionTreeRegressor\n",
        "from sklearn.ensemble import RandomForestRegressor\n",
        "from sklearn.metrics import mean_squared_error\n",
        "import joblib\n",
        "\n",
        "# Load dataset\n",
        "data = pd.read_csv('health_indicators_bfa.csv')\n",
        "\n",
        "# Preprocessing: Select relevant features and target\n",
        "# Convert 'YEAR (DISPLAY)' to numeric, handling errors\n",
        "data['YEAR (DISPLAY)'] = pd.to_numeric(data['YEAR (DISPLAY)'], errors='coerce')\n",
        "# errors='coerce' will replace non-numeric values with NaN\n",
        "\n",
        "# Extract the first numerical value from the 'Value' column\n",
        "# Assuming the numerical value is always the first part of the string,\n",
        "# before any spaces or brackets\n",
        "# You might need to adjust this regex based on the actual format of your data\n",
        "data['Value'] = data['Value'].str.extract(r'(\\d+\\.?\\d*)').astype(float)\n",
        "\n",
        "# Now select features and target\n",
        "X = data[['YEAR (DISPLAY)', 'Numeric']]\n",
        "y = data['Value']\n",
        "\n",
        "# Drop rows with missing values in X or y\n",
        "# Before dropping rows in X, remove rows with NaNs in 'y' as well\n",
        "data_cleaned = data.dropna(subset=['YEAR (DISPLAY)', 'Numeric', 'Value'])  # Drop rows with NaNs in any of these columns\n",
        "\n",
        "X = data_cleaned[['YEAR (DISPLAY)', 'Numeric']]\n",
        "y = data_cleaned['Value']\n",
        "\n",
        "# Split data into training and testing sets\n",
        "X_train, X_test, y_train, y_test = train_test_split(X, y, test_size=0.2, random_state=42)\n",
        "\n",
        "# Train Linear Regression Model\n",
        "lr_model = LinearRegression()\n",
        "lr_model.fit(X_train, y_train)\n",
        "y_pred_lr = lr_model.predict(X_test)\n",
        "mse_lr = mean_squared_error(y_test, y_pred_lr)\n",
        "\n",
        "# ... (Rest of your code remains the same)\n",
        "# Train Decision Tree Regressor\n",
        "dt_model = DecisionTreeRegressor(random_state=42)\n",
        "dt_model.fit(X_train, y_train)\n",
        "y_pred_dt = dt_model.predict(X_test)\n",
        "mse_dt = mean_squared_error(y_test, y_pred_dt)\n",
        "\n",
        "# Train Random Forest Regressor\n",
        "rf_model = RandomForestRegressor(random_state=42)\n",
        "rf_model.fit(X_train, y_train)\n",
        "y_pred_rf = rf_model.predict(X_test)\n",
        "mse_rf = mean_squared_error(y_test, y_pred_rf)\n",
        "\n",
        "# Determine the best-performing model\n",
        "models_mse = {\n",
        "    \"Linear Regression\": mse_lr,\n",
        "    \"Decision Tree\": mse_dt,\n",
        "    \"Random Forest\": mse_rf\n",
        "}\n",
        "best_model_name = min(models_mse, key=models_mse.get)\n",
        "best_model = {\n",
        "    \"Linear Regression\": lr_model,\n",
        "    \"Decision Tree\": dt_model,\n",
        "    \"Random Forest\": rf_model\n",
        "}[best_model_name]\n",
        "\n",
        "# Save the best-performing model\n",
        "joblib.dump(best_model, \"best_model.pkl\")\n",
        "\n",
        "# Print results\n",
        "print(f\"Mean Squared Errors: {models_mse}\")\n",
        "print(f\"Best Model: {best_model_name}\")"
      ],
      "metadata": {
        "colab": {
          "base_uri": "https://localhost:8080/"
        },
        "id": "86hSLAvtUFgs",
        "outputId": "ec7b0be0-81cf-4c8c-cc59-a2460d2a6716"
      },
      "execution_count": 14,
      "outputs": [
        {
          "output_type": "stream",
          "name": "stdout",
          "text": [
            "Mean Squared Errors: {'Linear Regression': 4915692843.558872, 'Decision Tree': 5063250275.507248, 'Random Forest': 4240337245.1114206}\n",
            "Best Model: Random Forest\n"
          ]
        }
      ]
    },
    {
      "source": [
        "import pandas as pd\n",
        "import joblib\n",
        "\n",
        "# Load the best model\n",
        "loaded_model = joblib.load(\"best_model.pkl\")\n",
        "\n",
        "# Define feature names based on your training data\n",
        "feature_names = ['YEAR (DISPLAY)', 'Numeric']\n",
        "\n",
        "# Test the model with sample data\n",
        "sample_input = pd.DataFrame([[2023, 50]], columns=feature_names)\n",
        "prediction = loaded_model.predict(sample_input)\n",
        "print(f\"Prediction: {prediction}\")\n"
      ],
      "cell_type": "code",
      "metadata": {
        "colab": {
          "base_uri": "https://localhost:8080/"
        },
        "id": "a3HgmViAPpM_",
        "outputId": "40bc0d35-fc42-4135-df85-dcffecafa2ca"
      },
      "execution_count": 16,
      "outputs": [
        {
          "output_type": "stream",
          "name": "stdout",
          "text": [
            "Prediction: [50.]\n"
          ]
        }
      ]
    },
    {
      "cell_type": "markdown",
      "source": [],
      "metadata": {
        "id": "qDgvMrH_W-Js"
      }
    },
    {
      "cell_type": "code",
      "source": [],
      "metadata": {
        "id": "dWBgiylkP0WG"
      },
      "execution_count": null,
      "outputs": []
    }
  ]
}